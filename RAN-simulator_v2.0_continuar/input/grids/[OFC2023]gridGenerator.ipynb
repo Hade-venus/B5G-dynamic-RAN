{
 "cells": [
  {
   "cell_type": "code",
   "execution_count": 1,
   "metadata": {},
   "outputs": [],
   "source": [
    "import numpy as np\n",
    "import matplotlib.pyplot as plt\n",
    "import copy\n",
    "import json\n",
    "from collections import deque"
   ]
  },
  {
   "cell_type": "markdown",
   "metadata": {},
   "source": [
    "Part 1: Create example"
   ]
  },
  {
   "cell_type": "code",
   "execution_count": 2,
   "metadata": {},
   "outputs": [],
   "source": [
    "n=64\n",
    "t = np.linspace(0, 2*np.pi, n, endpoint=False)"
   ]
  },
  {
   "cell_type": "code",
   "execution_count": 3,
   "metadata": {},
   "outputs": [],
   "source": [
    "r = 100\n",
    "antennas=[]\n",
    "x = list(r * np.cos(t))\n",
    "y = list(r * np.sin(t))\n",
    "antennas.append(x)\n",
    "antennas.append(y)"
   ]
  },
  {
   "cell_type": "code",
   "execution_count": 4,
   "metadata": {},
   "outputs": [],
   "source": [
    "def circularPlacement(n,r):\n",
    "    elements=[]\n",
    "    t = np.linspace(0, 2*np.pi, n, endpoint=False)\n",
    "    x = list(r * np.cos(t))\n",
    "    y = list(r * np.sin(t))\n",
    "    elements.append(x)\n",
    "    elements.append(y)\n",
    "    return elements"
   ]
  },
  {
   "cell_type": "code",
   "execution_count": 5,
   "metadata": {},
   "outputs": [],
   "source": [
    "def eucDist(A,B):\n",
    "    return float(np.power(np.power(A[0]-B[0],2)+np.power(A[1]-B[1],2),0.5))"
   ]
  },
  {
   "cell_type": "code",
   "execution_count": 6,
   "metadata": {},
   "outputs": [],
   "source": [
    "def computeCovRatio(antennas,users,rad_antenna):\n",
    "    ref=[antennas[0][0],antennas[1][0]]\n",
    "    counter=0\n",
    "    for i in range(len(users[0])):\n",
    "        val=[users[0][i], users[1][i]]\n",
    "        if eucDist(ref,val)<=rad_antenna:\n",
    "            counter+=1\n",
    "    return counter/float(len(users[0]))            "
   ]
  },
  {
   "cell_type": "code",
   "execution_count": 7,
   "metadata": {},
   "outputs": [],
   "source": [
    "def buildScenario(n_antennas,n_users,rad_antenna,target_covratio,step=1):\n",
    "    antennas = circularPlacement(n_antennas,rad_antenna/2.0)\n",
    "    r_users = np.linspace(0, 2*rad_antenna, int(np.ceil(2*rad_antenna/float(step))))\n",
    "    found = False\n",
    "    first = True\n",
    "    for r in r_users:\n",
    "        users = circularPlacement(n_users,r)\n",
    "        cov_ratio = computeCovRatio(antennas,users,rad_antenna)\n",
    "        if cov_ratio<=target_covratio:\n",
    "            found = True\n",
    "            break\n",
    "    if not found:\n",
    "        return None, None\n",
    "    return antennas, users"
   ]
  },
  {
   "cell_type": "code",
   "execution_count": 8,
   "metadata": {
    "scrolled": true
   },
   "outputs": [
    {
     "data": {
      "text/plain": [
       "[<matplotlib.lines.Line2D at 0x19366c35340>,\n",
       " <matplotlib.lines.Line2D at 0x19366c35370>]"
      ]
     },
     "execution_count": 8,
     "metadata": {},
     "output_type": "execute_result"
    },
    {
     "data": {
      "image/png": "[encoded data removed]",
      "text/plain": [
       "<Figure size 432x288 with 1 Axes>"
      ]
     },
     "metadata": {
      "needs_background": "light"
     },
     "output_type": "display_data"
    }
   ],
   "source": [
    "n_antennas=64\n",
    "n_users=64\n",
    "rad_antenna=100\n",
    "target_covratio = 0.66\n",
    "\n",
    "antennas, users = buildScenario(n_antennas,n_users,rad_antenna,target_covratio,step=1)\n",
    "plt.plot(antennas[0],antennas[1],'rx',users[0],users[1],'bo')"
   ]
  },
  {
   "cell_type": "markdown",
   "metadata": {},
   "source": [
    "Part 2 - Create grid JSON file"
   ]
  },
  {
   "cell_type": "code",
   "execution_count": 9,
   "metadata": {},
   "outputs": [],
   "source": [
    "base_json_general= {\n",
    "\t\t\"resolution[s]\": 60,\n",
    "\t\t\"num_steps\": 2880,\n",
    "        \"skip\": 1440\n",
    "\t}\n",
    "base_json_options={\n",
    "\t\t\"A\": {\n",
    "\t\t\t\"split_FH\": 0,\n",
    "\t\t\t\"split_MH\": 0,\n",
    "\t\t\t\"DU\": 0,\n",
    "\t\t\t\"CU\": 0\n",
    "\t\t},\n",
    "\t\t\"B_2\": {\n",
    "\t\t\t\"split_FH\": 2,\n",
    "\t\t\t\"split_MH\": 2,\n",
    "\t\t\t\"DU\": 0,\n",
    "\t\t\t\"CU\": 2\n",
    "\t\t},\n",
    "\t\t\"B_4\": {\n",
    "\t\t\t\"split_FH\": 4,\n",
    "\t\t\t\"split_MH\": 4,\n",
    "\t\t\t\"DU\": 0,\n",
    "\t\t\t\"CU\": 2\n",
    "\t\t},\n",
    "\t\t\"C_2\": {\n",
    "\t\t\t\"split_FH\": 7.2,\n",
    "\t\t\t\"split_MH\": 2,\n",
    "\t\t\t\"DU\": 1,\n",
    "\t\t\t\"CU\": 2\n",
    "\t\t},\n",
    "\t\t\"C_4\": {\n",
    "\t\t\t\"split_FH\": 7.2,\n",
    "\t\t\t\"split_MH\": 4,\n",
    "\t\t\t\"DU\": 1,\n",
    "\t\t\t\"CU\": 2\n",
    "\t\t},\n",
    "\t\t\"D_7.2\": {\n",
    "\t\t\t\"split_FH\": 7.2,\n",
    "\t\t\t\"split_MH\": 0,\n",
    "\t\t\t\"DU\": 2,\n",
    "\t\t\t\"CU\": 2\n",
    "\t\t},\n",
    "\t\t\"E_2\": {\n",
    "\t\t\t\"split_FH\": 2,\n",
    "\t\t\t\"split_MH\": 2,\n",
    "\t\t\t\"DU\": 0,\n",
    "\t\t\t\"CU\": 1\n",
    "\t\t},\n",
    "\t\t\"E_4\": {\n",
    "\t\t\t\"split_FH\": 4,\n",
    "\t\t\t\"split_MH\": 4,\n",
    "\t\t\t\"DU\": 0,\n",
    "\t\t\t\"CU\": 1\n",
    "\t\t},\n",
    "\t\t\"F\": {\n",
    "\t\t\t\"split_FH\": 7.2,\n",
    "\t\t\t\"split_MH\": 0,\n",
    "\t\t\t\"DU\": 1,\n",
    "\t\t\t\"CU\": 1\n",
    "\t\t}\n",
    "\t}"
   ]
  },
  {
   "cell_type": "code",
   "execution_count": 10,
   "metadata": {},
   "outputs": [],
   "source": [
    "base_json_antenna={\n",
    "\t\t\t\"type\": \"micro\",\n",
    "\t\t\t\"coord\": {\n",
    "\t\t\t\t\"x\": 0,\n",
    "\t\t\t\t\"y\": 0\n",
    "\t\t\t},\n",
    "\t\t\t\"params\": {\n",
    "\t\t\t\t\"capacity[Gb/s]\": 1.5,\n",
    "\t\t\t\t\"powerMax[dBm]\": 43,\n",
    "\t\t\t\t\"radius[m]\": 100,\n",
    "\t\t\t\t\"peakRate[Gb/s]\": 0.15,\n",
    "\t\t\t\t\"bandwidth[MHz]\": 100,\n",
    "\t\t\t\t\"refBandwidth[MHz]\": 20,\n",
    "\t\t\t\t\"nLayers\": 8,\n",
    "\t\t\t\t\"nRefLayers\": 6,\n",
    "\t\t\t\t\"ModulationOrder\": 8,\n",
    "\t\t\t\t\"refModulationOrder\": 2,\n",
    "\t\t\t\t\"signalingBitrate[Gb/s]\": 0.016,\n",
    "\t\t\t\t\"nSubcarrers\": 6000,\n",
    "\t\t\t\t\"nSymbols\": 14,\n",
    "\t\t\t\t\"nIQbits\": 10,\n",
    "\t\t\t\t\"MACinformation[Gb/s]\": 120,\n",
    "\t\t\t\t\"constant\": 2000\n",
    "\n",
    "\t\t\t},\n",
    "\t\t\t\"active\": 1,\n",
    "\t\t\t\"option\": \"None\"\n",
    " \n",
    "}\n",
    "\n",
    "options=[\"F\"]*n_antennas\n",
    "active=[1]*n_antennas"
   ]
  },
  {
   "cell_type": "code",
   "execution_count": 11,
   "metadata": {
    "scrolled": false
   },
   "outputs": [],
   "source": [
    "antennas_dict={}\n",
    "all_ids=list(range(n_antennas))\n",
    "all_ids=[\"a\"+str(i) for i in all_ids]\n",
    "\n",
    "for i in range(n_antennas):\n",
    "    id_ant=all_ids[i]\n",
    "    antennas_dict[id_ant]=copy.deepcopy(base_json_antenna)\n",
    "    antennas_dict[id_ant][\"coord\"][\"x\"]=antennas[0][i]\n",
    "    antennas_dict[id_ant][\"coord\"][\"y\"]=antennas[1][i]\n",
    "    antennas_dict[id_ant][\"active\"]=active[i]\n",
    "    antennas_dict[id_ant][\"option\"]=options[i]\n",
    "    items = deque(all_ids)\n",
    "    items.rotate(-i)\n",
    "    items.popleft()\n",
    "    neighbor=[]\n",
    "    sense=-1\n",
    "    while len(items)>0:\n",
    "        if sense==-1:\n",
    "            neighbor.append(items.popleft())\n",
    "            sense=1\n",
    "        else:\n",
    "            neighbor.append(items.pop())\n",
    "            sense=-1\n",
    "    antennas_dict[id_ant][\"neighbor\"]=neighbor"
   ]
  },
  {
   "cell_type": "code",
   "execution_count": 12,
   "metadata": {},
   "outputs": [],
   "source": [
    "base_json_grid={\n",
    "\t\t\"mode\": \"auto\",\n",
    "\t\t\"components\":[],\n",
    "\t\t\"coord_x\":[],\n",
    "\t\t\"coord_y\":[],\n",
    "\t\t\"components_list\": [{\n",
    "\t\t\t\"profile_mean\": \"/input/profiles/profile2.csv\",\n",
    "\t\t\t\"profile_var\": 0.1,\n",
    "\t\t\t\"profile_min\": 0.1,\n",
    "\t\t\t\"profile_max\": 1,\n",
    "\t\t\t\"shift_max\": 0,\n",
    "\t\t\t\"period\": 1440,\n",
    "\t\t\t\"noise\": 0.05,\n",
    "\t\t\t\"interpl\": \"spline\"\n",
    "\t\t}]\n",
    "\t}"
   ]
  },
  {
   "cell_type": "code",
   "execution_count": 13,
   "metadata": {},
   "outputs": [],
   "source": [
    "grid_dict=copy.deepcopy(base_json_grid)\n",
    "grid_dict[\"components\"]=[0]*64\n",
    "grid_dict[\"coord_x\"]=users[0]\n",
    "grid_dict[\"coord_y\"]=users[1]"
   ]
  },
  {
   "cell_type": "code",
   "execution_count": 14,
   "metadata": {},
   "outputs": [],
   "source": [
    "example_dict={\"general\":base_json_general,\"options\":base_json_options,\"grid\":grid_dict,\"antennas\":antennas_dict}"
   ]
  },
  {
   "cell_type": "code",
   "execution_count": 15,
   "metadata": {},
   "outputs": [],
   "source": [
    "with open(\"scenario_1_F.json\", \"w\") as outfile:\n",
    "    json.dump(example_dict, outfile)"
   ]
  }
 ],
 "metadata": {
  "kernelspec": {
   "display_name": "Python 3",
   "language": "python",
   "name": "python3"
  },
  "language_info": {
   "codemirror_mode": {
    "name": "ipython",
    "version": 3
   },
   "file_extension": ".py",
   "mimetype": "text/x-python",
   "name": "python",
   "nbconvert_exporter": "python",
   "pygments_lexer": "ipython3",
   "version": "3.8.5"
  }
 },
 "nbformat": 4,
 "nbformat_minor": 4
}
